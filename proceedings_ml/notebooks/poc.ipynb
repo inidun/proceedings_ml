{
 "cells": [
  {
   "cell_type": "code",
   "execution_count": null,
   "metadata": {},
   "outputs": [],
   "source": [
    "import spacy\n",
    "from spacy import displacy"
   ]
  },
  {
   "cell_type": "markdown",
   "metadata": {},
   "source": [
    "### **Raw text**"
   ]
  },
  {
   "cell_type": "code",
   "execution_count": null,
   "metadata": {},
   "outputs": [],
   "source": [
    "# textfile = '../../data/proceedings/text_data/1989_848220013_fourteenth_plenary_meeting.txt'\n",
    "textfile = '../../data/proceedings/text_data/1993_1002150023_twenty-fourth_plenary_meeting.txt'\n",
    "filename = textfile.split('/')[-1]\n",
    "\n",
    "with open(textfile) as f:\n",
    "    text = f.read()\n",
    "\n",
    "print(f'filename: {filename}')\n",
    "print('number of words:', len(text.split()))\n",
    "print('number of characters:', len(text))\n",
    "print('number of lines:', len(text.split('\\n')))\n",
    "\n",
    "print(f'\\ntext:\\n\\n{text}')"
   ]
  },
  {
   "cell_type": "markdown",
   "metadata": {},
   "source": [
    "### **Spans**: `training/model-best`"
   ]
  },
  {
   "cell_type": "code",
   "execution_count": null,
   "metadata": {},
   "outputs": [],
   "source": [
    "nlp_mb = spacy.load('../../training/model-best/')\n",
    "doc_mb = nlp_mb(text)\n",
    "doc_mb.user_data['title'] = f'Spans (model-best): \"{filename}\"'\n",
    "options = {\n",
    "    'colors': {\n",
    "        'PARAGRAPH_NUMBERS': '#ff0000',\n",
    "        'NAME': '#00ff00',\n",
    "        'HEADER': '#0000ff',\n",
    "        'ROLE': '#ff00ff',\n",
    "        'TITLE': '#ffff00',\n",
    "        'COUNTRY': '#00ffff',\n",
    "        'TRANSLATED_NOTE': '#ff0000',\n",
    "    }\n",
    "}\n",
    "displacy.render(doc_mb, style='span', jupyter=True, options=options)"
   ]
  },
  {
   "cell_type": "markdown",
   "metadata": {},
   "source": [
    "### **Entities (reference)**: `en_core_web_lg`"
   ]
  },
  {
   "cell_type": "code",
   "execution_count": null,
   "metadata": {},
   "outputs": [],
   "source": [
    "nlp_en = spacy.load('en_core_web_lg')\n",
    "doc_en = nlp_en(text)\n",
    "doc_en.user_data['title'] = f'Entities (en_core_web_lg): \"{filename}\"'\n",
    "displacy.render(doc_en, style='ent', jupyter=True)"
   ]
  }
 ],
 "metadata": {
  "kernelspec": {
   "display_name": "proceedings-ml-uuiuRMEt-py3.11",
   "language": "python",
   "name": "python3"
  },
  "language_info": {
   "codemirror_mode": {
    "name": "ipython",
    "version": 3
   },
   "file_extension": ".py",
   "mimetype": "text/x-python",
   "name": "python",
   "nbconvert_exporter": "python",
   "pygments_lexer": "ipython3",
   "version": "3.11.6"
  }
 },
 "nbformat": 4,
 "nbformat_minor": 2
}
