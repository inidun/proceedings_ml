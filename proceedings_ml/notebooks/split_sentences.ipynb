{
 "cells": [
  {
   "cell_type": "code",
   "execution_count": null,
   "metadata": {},
   "outputs": [],
   "source": [
    "from prodigy.components.preprocess import split_sentences\n",
    "import spacy\n",
    "\n",
    "nlp = spacy.load(\"en_core_web_lg\")\n",
    "\n",
    "textfile = '../../data/proceedings/text_data/1980_2341520003_fourth_plenary_meeting.txt'"
   ]
  },
  {
   "cell_type": "markdown",
   "metadata": {},
   "source": [
    "## Text file"
   ]
  },
  {
   "cell_type": "code",
   "execution_count": null,
   "metadata": {},
   "outputs": [],
   "source": [
    "from IPython.display import display, Markdown\n",
    "\n",
    "with open(textfile) as f:\n",
    "    text = f.read()\n",
    "\n",
    "display(Markdown(f\"**Filename:** {textfile.split('/')[-1]}\"))\n",
    "display(Markdown(f\"**Number of characters:** {len(text)}\"))\n",
    "display(Markdown(f\"**Number of lines:** {len(text.splitlines())}\\n\"))\n",
    "# display(Markdown(f'```\\n{text}\\n```'))\n",
    "print(text)"
   ]
  },
  {
   "cell_type": "markdown",
   "metadata": {},
   "source": [
    "## Split sentences using get_stream with text loader"
   ]
  },
  {
   "cell_type": "code",
   "execution_count": null,
   "metadata": {},
   "outputs": [],
   "source": [
    "from prodigy.components.stream import get_stream\n",
    "\n",
    "stream = get_stream(textfile, loader=\"txt\")\n",
    "stream = split_sentences(nlp, stream, min_length=30)\n",
    "sents = [s for s in stream]\n",
    "for i, sent in enumerate(sents):\n",
    "    print(f\"Sentence {i}\\n{sent['text']}\\n\")"
   ]
  },
  {
   "cell_type": "markdown",
   "metadata": {},
   "source": [
    "## Split text using list of dicts"
   ]
  },
  {
   "cell_type": "code",
   "execution_count": null,
   "metadata": {},
   "outputs": [],
   "source": [
    "stream = split_sentences(nlp, [{\"text\": text}], min_length=30)\n",
    "sents = [s for s in stream]\n",
    "for i, sent in enumerate(sents):\n",
    "    print(f\"Sentence {i}\\n{sent['text']}\\n\")"
   ]
  },
  {
   "cell_type": "markdown",
   "metadata": {},
   "source": [
    "## Using annotated jsonl"
   ]
  },
  {
   "cell_type": "code",
   "execution_count": null,
   "metadata": {},
   "outputs": [],
   "source": [
    "stream = get_stream(\"../../data/proceedings/proceedings.jsonl\")\n",
    "stream = split_sentences(nlp, stream, min_length=30)\n",
    "sents = [s for s in stream]\n",
    "for i, sent in enumerate(sents):\n",
    "    print(f\"Sentence {i} ({sent['meta']['file_name']})\\n{sent['text']}\\n\")"
   ]
  }
 ],
 "metadata": {
  "kernelspec": {
   "display_name": "proceedings-ml-uuiuRMEt-py3.11",
   "language": "python",
   "name": "python3"
  },
  "language_info": {
   "codemirror_mode": {
    "name": "ipython",
    "version": 3
   },
   "file_extension": ".py",
   "mimetype": "text/x-python",
   "name": "python",
   "nbconvert_exporter": "python",
   "pygments_lexer": "ipython3",
   "version": "3.11.6"
  }
 },
 "nbformat": 4,
 "nbformat_minor": 2
}
